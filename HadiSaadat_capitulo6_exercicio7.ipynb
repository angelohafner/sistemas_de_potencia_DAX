{
  "nbformat": 4,
  "nbformat_minor": 0,
  "metadata": {
    "colab": {
      "provenance": [],
      "authorship_tag": "ABX9TyMPa9YfQqOCsoIZHe7lGCk+",
      "include_colab_link": true
    },
    "kernelspec": {
      "name": "python3",
      "display_name": "Python 3"
    },
    "language_info": {
      "name": "python"
    }
  },
  "cells": [
    {
      "cell_type": "markdown",
      "metadata": {
        "id": "view-in-github",
        "colab_type": "text"
      },
      "source": [
        "<a href=\"https://colab.research.google.com/github/angelohafner/sistemas_de_potencia_DAX/blob/main/HadiSaadat_capitulo6_exercicio7.ipynb\" target=\"_parent\"><img src=\"https://colab.research.google.com/assets/colab-badge.svg\" alt=\"Open In Colab\"/></a>"
      ]
    },
    {
      "cell_type": "code",
      "source": [
        "import numpy as np\n",
        "import matplotlib.pyplot as plt"
      ],
      "metadata": {
        "id": "TKyyfdIM3NZ9"
      },
      "execution_count": null,
      "outputs": []
    },
    {
      "cell_type": "markdown",
      "source": [
        "# Definindo as admitâncias e cargas"
      ],
      "metadata": {
        "id": "4JrVgRWu3Pzz"
      }
    },
    {
      "cell_type": "code",
      "execution_count": null,
      "metadata": {
        "id": "VWsBEVeur8xJ"
      },
      "outputs": [],
      "source": [
        "y12 = 1/(0.02+0.04j)\n",
        "y13 = 1/(0.01+0.03j)\n",
        "y23 = 1/(0.0125+0.025j)\n",
        "V1 = 1.05 + 0.j\n",
        "S2 = -2.566 - 1.102j\n",
        "S3 = -1.386 - 0.452j\n",
        "V2 = 1. + 0.j\n",
        "V3 = 1. + 0.j"
      ]
    },
    {
      "cell_type": "markdown",
      "source": [
        "# Iterações do método de Gauss-Seidel"
      ],
      "metadata": {
        "id": "yO0xvfvm3Y-0"
      }
    },
    {
      "cell_type": "code",
      "source": [
        "list_V2 = [V2]\n",
        "list_V3 = [V3]\n",
        "list_it = [0]\n",
        "for i in range(1, 10, 1):\n",
        "    V2 = (np.conj(S2) / np.conj(V2) + y12 * V1 + y23 * V3) / (y12 + y23)\n",
        "    V3 = (np.conj(S3) / np.conj(V3) + y13 * V1 + y23 * V2) / (y13 + y23)\n",
        "    V2_formatted = f\"{V2.real:.4f} + j{V2.imag:.3f}\"\n",
        "    V3_formatted = f\"{V3.real:.4f} + j{V3.imag:.3f}\"\n",
        "    list_V2.append(V2)\n",
        "    list_V3.append(V3)\n",
        "    list_it.append(i)\n",
        "    print(f\"===> V2_({i}) = {V2_formatted}    |   V3_({i}) = {V3_formatted}\")"
      ],
      "metadata": {
        "colab": {
          "base_uri": "https://localhost:8080/"
        },
        "id": "rdncolkK3XXb",
        "outputId": "9d56c26e-60ca-43dc-ba0a-d3a3b649f275"
      },
      "execution_count": null,
      "outputs": [
        {
          "output_type": "stream",
          "name": "stdout",
          "text": [
            "===> V2_(1) = 0.9825 + j-0.031    |   V3_(1) = 1.0011 + j-0.035\n",
            "===> V2_(2) = 0.9816 + j-0.052    |   V3_(2) = 1.0008 + j-0.046\n",
            "===> V2_(3) = 0.9808 + j-0.058    |   V3_(3) = 1.0004 + j-0.049\n",
            "===> V2_(4) = 0.9803 + j-0.059    |   V3_(4) = 1.0002 + j-0.050\n",
            "===> V2_(5) = 0.9801 + j-0.060    |   V3_(5) = 1.0001 + j-0.050\n",
            "===> V2_(6) = 0.9801 + j-0.060    |   V3_(6) = 1.0000 + j-0.050\n",
            "===> V2_(7) = 0.9800 + j-0.060    |   V3_(7) = 1.0000 + j-0.050\n",
            "===> V2_(8) = 0.9800 + j-0.060    |   V3_(8) = 1.0000 + j-0.050\n",
            "===> V2_(9) = 0.9800 + j-0.060    |   V3_(9) = 1.0000 + j-0.050\n"
          ]
        }
      ]
    },
    {
      "cell_type": "markdown",
      "source": [
        "# Calculando correntes e potências"
      ],
      "metadata": {
        "id": "6UkoEQIb3ntG"
      }
    },
    {
      "cell_type": "code",
      "source": [
        "I12 = y12 * (V1 - V2)\n",
        "I21 = -I12\n",
        "I13 = y13 * (V1 - V3)\n",
        "I31 = -I13\n",
        "I23 = y23 * (V2 - V3)\n",
        "I32 = -I23\n",
        "S12 = V1 * np.conj(I12)\n",
        "S21 = V2 * np.conj(I21)\n",
        "S13 = V1 * np.conj(I13)\n",
        "S31 = V3 * np.conj(I31)\n",
        "S23 = V2 * np.conj(I23)\n",
        "S32 = V3 * np.conj(I32)\n",
        "\n",
        "I12_formatted = f\"{I12.real:.4f} + j{I12.imag:.4f}\"\n",
        "I13_formatted = f\"{I13.real:.4f} + j{I13.imag:.4f}\"\n",
        "I23_formatted = f\"{I23.real:.4f} + j{I23.imag:.4f}\"\n",
        "print(f\"===> I12 = {I12_formatted}\")\n",
        "print(f\"===> I13 = {I13_formatted}\")\n",
        "print(f\"===> I23 = {I23_formatted}\")\n",
        "\n",
        "S12_formatted = f\"{S12.real:.4f} + j{S12.imag:.4f}\"\n",
        "S13_formatted = f\"{S13.real:.4f} + j{S13.imag:.4f}\"\n",
        "S23_formatted = f\"{S23.real:.4f} + j{S23.imag:.4f}\"\n",
        "print(f\"===> S12 = {S12_formatted}\")\n",
        "print(f\"===> S13 = {S13_formatted}\")\n",
        "print(f\"===> S23 = {S23_formatted}\")"
      ],
      "metadata": {
        "colab": {
          "base_uri": "https://localhost:8080/"
        },
        "id": "XAMpr94-3mHU",
        "outputId": "6771eb26-202c-4fda-bb85-fecc18c06412"
      },
      "execution_count": null,
      "outputs": [
        {
          "output_type": "stream",
          "name": "stdout",
          "text": [
            "===> I12 = 1.8999 + j-0.7999\n",
            "===> I13 = 1.9999 + j-1.0000\n",
            "===> I23 = -0.6399 + j0.4800\n",
            "===> S12 = 1.9949 + j0.8399\n",
            "===> S13 = 2.0999 + j1.0499\n",
            "===> S23 = -0.6559 + j-0.4320\n"
          ]
        }
      ]
    },
    {
      "cell_type": "markdown",
      "source": [
        "# Barra Slack"
      ],
      "metadata": {
        "id": "U7WGxx-p3XAj"
      }
    },
    {
      "cell_type": "code",
      "source": [
        "S1 = S12 + S13\n",
        "S1_formatted = f\"{S1.real:.4f} + j{S1.imag:.4f}\"\n",
        "print(f\"===> S1 = {S1_formatted}\")"
      ],
      "metadata": {
        "colab": {
          "base_uri": "https://localhost:8080/"
        },
        "id": "geW-VPXjnWXP",
        "outputId": "dcc9f40d-64b0-437e-8135-fb86ca647247"
      },
      "execution_count": null,
      "outputs": [
        {
          "output_type": "stream",
          "name": "stdout",
          "text": [
            "===> S1 = 4.0948 + j1.8899\n"
          ]
        }
      ]
    }
  ]
}